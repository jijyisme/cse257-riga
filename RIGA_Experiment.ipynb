{
  "nbformat": 4,
  "nbformat_minor": 0,
  "metadata": {
    "colab": {
      "name": "RIGA Experiment.ipynb",
      "provenance": [],
      "collapsed_sections": [],
      "toc_visible": true
    },
    "kernelspec": {
      "display_name": "Python 3",
      "name": "python3"
    },
    "language_info": {
      "name": "python"
    }
  },
  "cells": [
    {
      "cell_type": "code",
      "metadata": {
        "colab": {
          "base_uri": "https://localhost:8080/"
        },
        "id": "9FADub0aJRdu",
        "outputId": "5cca3740-688f-4e5c-9901-ad575109d084"
      },
      "source": [
        "!pip install pygmo"
      ],
      "execution_count": 1,
      "outputs": [
        {
          "output_type": "stream",
          "text": [
            "Requirement already satisfied: pygmo in /usr/local/lib/python3.7/dist-packages (2.16.1)\n",
            "Requirement already satisfied: cloudpickle in /usr/local/lib/python3.7/dist-packages (from pygmo) (1.3.0)\n",
            "Requirement already satisfied: numpy in /usr/local/lib/python3.7/dist-packages (from pygmo) (1.19.5)\n"
          ],
          "name": "stdout"
        }
      ]
    },
    {
      "cell_type": "code",
      "metadata": {
        "colab": {
          "base_uri": "https://localhost:8080/"
        },
        "id": "sCwz8OGmmpo0",
        "outputId": "4b75e9a9-76b8-41fd-8cff-8ee978d13a79"
      },
      "source": [
        "!pip install pymoo"
      ],
      "execution_count": 2,
      "outputs": [
        {
          "output_type": "stream",
          "text": [
            "Requirement already satisfied: pymoo in /usr/local/lib/python3.7/dist-packages (0.4.2.2)\n",
            "Requirement already satisfied: autograd>=1.3 in /usr/local/lib/python3.7/dist-packages (from pymoo) (1.3)\n",
            "Requirement already satisfied: numpy>=1.15 in /usr/local/lib/python3.7/dist-packages (from pymoo) (1.19.5)\n",
            "Requirement already satisfied: matplotlib>=3 in /usr/local/lib/python3.7/dist-packages (from pymoo) (3.2.2)\n",
            "Requirement already satisfied: cma==2.7 in /usr/local/lib/python3.7/dist-packages (from pymoo) (2.7.0)\n",
            "Requirement already satisfied: scipy>=1.1 in /usr/local/lib/python3.7/dist-packages (from pymoo) (1.4.1)\n",
            "Requirement already satisfied: future>=0.15.2 in /usr/local/lib/python3.7/dist-packages (from autograd>=1.3->pymoo) (0.16.0)\n",
            "Requirement already satisfied: python-dateutil>=2.1 in /usr/local/lib/python3.7/dist-packages (from matplotlib>=3->pymoo) (2.8.1)\n",
            "Requirement already satisfied: cycler>=0.10 in /usr/local/lib/python3.7/dist-packages (from matplotlib>=3->pymoo) (0.10.0)\n",
            "Requirement already satisfied: kiwisolver>=1.0.1 in /usr/local/lib/python3.7/dist-packages (from matplotlib>=3->pymoo) (1.3.1)\n",
            "Requirement already satisfied: pyparsing!=2.0.4,!=2.1.2,!=2.1.6,>=2.0.1 in /usr/local/lib/python3.7/dist-packages (from matplotlib>=3->pymoo) (2.4.7)\n",
            "Requirement already satisfied: six>=1.5 in /usr/local/lib/python3.7/dist-packages (from python-dateutil>=2.1->matplotlib>=3->pymoo) (1.15.0)\n"
          ],
          "name": "stdout"
        }
      ]
    },
    {
      "cell_type": "code",
      "metadata": {
        "id": "PR88FTBompo1"
      },
      "source": [
        "from numpy.random import randint\n",
        "from numpy.random import rand\n",
        "import numpy as np\n",
        "import random"
      ],
      "execution_count": 3,
      "outputs": []
    },
    {
      "cell_type": "markdown",
      "metadata": {
        "id": "DwB_rFG7mpoz"
      },
      "source": [
        "# Generate MTSP"
      ]
    },
    {
      "cell_type": "code",
      "metadata": {
        "id": "p9aAWkGbmpo1"
      },
      "source": [
        "n_cities = 3\n",
        "grid_size = 100\n",
        "n_objectives = 3\n",
        "coordinates = []\n",
        "edges_map = []\n"
      ],
      "execution_count": 4,
      "outputs": []
    },
    {
      "cell_type": "code",
      "metadata": {
        "id": "xfvh9yyyPyJG"
      },
      "source": [
        "# Generate a multi-objective TSP map and save to csv\n",
        "from scipy.spatial.distance import pdist, squareform, cdist\n",
        "output_path = 'test_map/'\n",
        "for i in range(n_objectives):\n",
        "  random_city_coordinate = np.random.random((n_cities, 2)) * [grid_size, grid_size]\n",
        "  coordinates.append(random_city_coordinate)\n",
        "  edges_map.append(cdist(random_city_coordinate, random_city_coordinate))\n",
        "  #np.savetxt(output_path+'coords_'+str(n_cities)+'cities_obj_'+str(i)+'.csv', coordinates[i], delimiter=\",\")\n",
        "  #np.savetxt(output_path+'value_'+str(n_cities)+'cities_obj_'+str(i)+'.csv', edges_map[i], delimiter=\",\")"
      ],
      "execution_count": 5,
      "outputs": []
    },
    {
      "cell_type": "code",
      "metadata": {
        "id": "4Sfw5b4Tmpo1"
      },
      "source": [
        "# Read a file\n",
        "#for i in range(n_objectives):\n",
        "#  edges_map.append(np.genfromtxt(output_path+'value_'+str(n_cities)+'cities_obj_'+str(i)+'.csv', delimiter=\",\"))"
      ],
      "execution_count": 6,
      "outputs": []
    },
    {
      "cell_type": "markdown",
      "metadata": {
        "id": "OBesNFVg1z9-"
      },
      "source": [
        "# Sub functions"
      ]
    },
    {
      "cell_type": "markdown",
      "metadata": {
        "id": "VP9KoTu_iKT1"
      },
      "source": [
        "## Minimax Regret Function"
      ]
    },
    {
      "cell_type": "code",
      "metadata": {
        "id": "g59nR6vBiFDq"
      },
      "source": [
        "def objective(x):\n",
        "    n_cities = len(x)\n",
        "    objectives = []\n",
        "    for o in range(n_objectives):\n",
        "      dist = 0\n",
        "      for k in range(n_cities - 1):\n",
        "          i, j = x[k], x[k + 1]\n",
        "          dist += edges_map[o][i, j]\n",
        "      objectives.append(dist)\n",
        "    return tuple(objectives)\n",
        "    \n",
        "def scalarizer(weights, decision):\n",
        "    return sum([w*x for w, x in zip(weights,decision)])\n",
        "\n",
        "def pairwise_max_regret(omega_set, x1,x2):\n",
        "    pairwise_regret = []\n",
        "    for w in omega_set:\n",
        "      regret = scalarizer(w, objective(x1)) - scalarizer(w, objective(x2))\n",
        "      pairwise_regret.append(regret)\n",
        "    return np.max(pairwise_regret), np.argmax(pairwise_regret)\n",
        "    \n",
        "def minimax_regret(omega_set, X_pop):\n",
        "    PMR = np.zeros(shape=(len(X_pop),len(X_pop)))\n",
        "    np.fill_diagonal(PMR, -np.inf)\n",
        "    PMR_w = np.zeros(shape=(len(X_pop),len(X_pop)))\n",
        "    for i in range(0,len(X_pop)):\n",
        "        for j in range(0,len(X_pop)):\n",
        "            if i != j:\n",
        "                PMR[i][j], PMR_w[i][j] = pairwise_max_regret(omega_set, X_pop[i], X_pop[j])\n",
        "    MR = PMR.max(axis=1)\n",
        "    argmax_index = PMR.argmax(axis=0)[0]\n",
        "    MMR = MR.min()\n",
        "    argmin_index = MR.argmin()\n",
        "    argmin_MMR = X_pop[argmin_index]\n",
        "    argmin_MMR_w = omega_set[int(PMR_w[argmin_index,argmax_index])]\n",
        "    print('MMR : ', MMR, 'X* : ',argmin_MMR)\n",
        "    print('W* : ', argmin_MMR_w)\n",
        "    return MMR, argmin_MMR, argmin_MMR_w"
      ],
      "execution_count": 7,
      "outputs": []
    },
    {
      "cell_type": "markdown",
      "metadata": {
        "id": "X_tKBh-liNFP"
      },
      "source": [
        "## Genetic Algorithm Operators"
      ]
    },
    {
      "cell_type": "code",
      "metadata": {
        "id": "8GN4Occ8pdPo"
      },
      "source": [
        "import math\n",
        "\n",
        "# crossover two parents to create two children\n",
        "def crossover(p1, p2, r_cross):\n",
        "\t# children are copies of parents by default\n",
        "  c = p1\n",
        "    # check for recombination\n",
        "  if rand() < r_cross:\n",
        "    pt = randint(0, len(p1))\n",
        "    if pt == 0:\n",
        "      c = p2\n",
        "    if pt == len(p1):\n",
        "      c = p1\n",
        "    else:\n",
        "      c = p1[:pt] + p2[pt:]\n",
        "  return c\n",
        "\n",
        "def solution_crossover(p, r_cross):\n",
        "\t# children are copies of parents by default\n",
        "  c = p\n",
        "    # check for recombination\n",
        "  if rand() < r_cross:\n",
        "    if len(p) < 3:\n",
        "      return p\n",
        "    elif len(p) == 3:\n",
        "      c = [p[0],p[2],p[1]]\n",
        "    else:\n",
        "      pt = randint(2, len(p)-1)\n",
        "      c = [p[0]] + p[pt:] + p[1:pt]\n",
        "  return c\n",
        "\n",
        "# mutation operator\n",
        "def weight_mutation(string, r_mut):\n",
        "  string = list(string)\n",
        "  for i in range(len(string)):\n",
        "    # check for a mutation\n",
        "    if rand() < r_mut:\n",
        "    # flip the bit\n",
        "      string[i] = 1-string[i]\n",
        "  # normalize\n",
        "  if sum(string) > 0:\n",
        "    string = [s/sum(string) for s in string]\n",
        "  return tuple(string)\n",
        "\n",
        "def solution_mutation(string, r_mut):\n",
        "  string = list(string)\n",
        "  for i in range(len(string)):\n",
        "    # check for a mutation\n",
        "    if rand() < r_mut/2:\n",
        "    # flip the bit\n",
        "      idx = range(len(string))\n",
        "      i1, i2 = random.sample(idx, 2)\n",
        "      string[i1], string[i2] = string[i2], string[i1]\n",
        "  # normalize\n",
        "  return string\n",
        "\n",
        "def crossover_mutation(omega_set, n_children, r_cross=1.0, r_mut=1.0, c_type = 'weight'):\n",
        "    children = []\n",
        "    for i in range(0, n_children):\n",
        "        [w1, w2] = random.sample(omega_set,2)\n",
        "        if c_type == 'weight':\n",
        "          c = crossover(w1, w2, r_cross)\n",
        "          m = weight_mutation(c, r_mut)\n",
        "        if c_type == 'solution':\n",
        "          c = solution_crossover(w1,r_cross)\n",
        "          m = solution_mutation(c, r_mut)\n",
        "        children.append(m) \n",
        "    return children\n",
        "\n",
        "def get_tuple_distance(x,y):\n",
        "    return sum([(a-b)**2 for a, b in zip(x,y)])/len(x)\n",
        "\n",
        "def selection(x, pop, k):\n",
        "    dist_array = [get_tuple_distance(x,p) for (w,p) in pop]\n",
        "    sort_index = np.argsort(dist_array).tolist()\n",
        "    selected_pop = [pop[i] for i in sort_index[0:k]]\n",
        "    selected_x = [x for (_,x) in selected_pop]\n",
        "    return selected_x, selected_pop\n"
      ],
      "execution_count": 8,
      "outputs": []
    },
    {
      "cell_type": "markdown",
      "metadata": {
        "id": "sPhvi7fbBkN5"
      },
      "source": [
        "## NSGA-II : Existing MTSP Solver from Pymoo\n",
        "\n"
      ]
    },
    {
      "cell_type": "code",
      "metadata": {
        "id": "4J6ebzALJb3G"
      },
      "source": [
        "import autograd.numpy as anp\n",
        "import matplotlib.pyplot as plt\n",
        "import numpy as np\n",
        "from scipy.spatial.distance import pdist, squareform, cdist\n",
        "\n",
        "from pymoo.model.problem import Problem\n",
        "\n",
        "\n",
        "class MTSP(Problem):\n",
        "\n",
        "    def __init__(self, cities_map, weights,**kwargs):\n",
        "        \"\"\"\n",
        "        A two-dimensional traveling salesman problem (TSP)\n",
        "        Parameters\n",
        "        ----------\n",
        "        cities : numpy.array\n",
        "            The cities with 2-dimensional coordinates provided by a matrix where where city is represented by a row.\n",
        "        \"\"\"\n",
        "        n_cities, _ = cities_map[0].shape\n",
        "        self.cities_map = cities_map\n",
        "        self.weights = weights\n",
        "        super(MTSP, self).__init__(\n",
        "            n_var=n_cities,\n",
        "            n_obj=3,\n",
        "            xl=0,\n",
        "            xu=n_cities,\n",
        "            type_var=int,\n",
        "            elementwise_evaluation=True,\n",
        "            **kwargs\n",
        "        )\n",
        "\n",
        "    def _evaluate(self, x, out, *args, **kwargs):\n",
        "        f1 = self.weights[0]*self.get_route_length(x, self.cities_map[0])\n",
        "        f2 = self.weights[1]*self.get_route_length(x, self.cities_map[1])\n",
        "        f3 = self.weights[2]*self.get_route_length(x, self.cities_map[2])\n",
        "        out['F'] = anp.column_stack([f1, f2, f3])\n",
        "\n",
        "    def get_route_length(self, x, D):\n",
        "        n_cities = len(x)\n",
        "        dist = 0\n",
        "        for k in range(n_cities - 1):\n",
        "            i, j = x[k], x[k + 1]\n",
        "            dist += D[i, j]\n",
        "        last, first = x[-1], x[0]\n",
        "        dist += D[last, first]  # back to the initial city\n",
        "        return dist\n"
      ],
      "execution_count": 9,
      "outputs": []
    },
    {
      "cell_type": "code",
      "metadata": {
        "id": "babOYkGlHZ_2"
      },
      "source": [
        "from pymoo.algorithms.nsga2 import NSGA2\n",
        "from pymoo.optimize import minimize\n",
        "from pymoo.factory import get_algorithm, get_crossover, get_mutation, get_sampling\n",
        "from pymoo.util.termination.default import SingleObjectiveDefaultTermination\n",
        "from pymoo.model.repair import Repair\n",
        "\n",
        "class StartFromZeroRepair(Repair):\n",
        "\n",
        "    def _do(self, problem, pop, **kwargs):\n",
        "        X = pop.get(\"X\")\n",
        "        I = np.where(X == 0)[1]\n",
        "\n",
        "        for k in range(len(X)):\n",
        "            i = I[k]\n",
        "            x = X[k]\n",
        "            _x = np.concatenate([x[i:], x[:i]])\n",
        "            pop[k].set(\"X\", _x)\n",
        "\n",
        "        return pop\n",
        "\n",
        "def find_optimal_result(weights, map):\n",
        "    problem = MTSP(map, weights)\n",
        "\n",
        "    algorithm = NSGA2(\n",
        "        pop_size=20,\n",
        "        sampling=get_sampling(\"perm_random\"),\n",
        "        crossover=get_crossover(\"perm_erx\"),\n",
        "        mutation=get_mutation(\"perm_inv\"),\n",
        "        repair=StartFromZeroRepair(),\n",
        "        eliminate_duplicates=True\n",
        "    )\n",
        "\n",
        "    termination = SingleObjectiveDefaultTermination(n_last=10, n_max_gen=np.inf)\n",
        "\n",
        "    res = minimize(\n",
        "        problem,\n",
        "        algorithm,\n",
        "        termination,\n",
        "        seed=1,\n",
        "    )\n",
        "    return res\n",
        "\n",
        "def find_optimal_x(weights, map):\n",
        "    result = find_optimal_result(weights, map)\n",
        "    return result.X[0]"
      ],
      "execution_count": 10,
      "outputs": []
    },
    {
      "cell_type": "markdown",
      "metadata": {
        "id": "2UY2VOTxiQ5A"
      },
      "source": [
        "# RIGA Algorithm"
      ]
    },
    {
      "cell_type": "code",
      "metadata": {
        "id": "pWspQSoLm809"
      },
      "source": [
        "#Initialize weights and linear constraints\n",
        "def DecimalToBinary(num, n_bits): \n",
        "    binary = []\n",
        "    while num >= 1:\n",
        "      binary.append(num % 2)\n",
        "      num = num//2\n",
        "    if len(binary) < n_bits:\n",
        "      binary = binary+([0]*(n_bits-len(binary)))\n",
        "    binary = binary[::-1]\n",
        "    return tuple(binary)\n",
        "def polyhedral(n_objectives):\n",
        "    result = []\n",
        "    for i in range(0, n_objectives):\n",
        "      temp = [0]*n_objectives\n",
        "      temp[i] = 1\n",
        "      result.append(temp)\n",
        "    return result\n",
        "def initialize_linear_constraints(omega_set):\n",
        "  extreme_points = [(w1,w2) for [w1,w2,_] in omega_set]\n",
        "  lines = []\n",
        "  for i in range(len(extreme_points)-1):\n",
        "    for j in range(i+1, len(extreme_points)):\n",
        "      lines.append(LineString([extreme_points[i],extreme_points[j]]))\n",
        "  return lines"
      ],
      "execution_count": 11,
      "outputs": []
    },
    {
      "cell_type": "code",
      "metadata": {
        "id": "FDDvLXHnpR4d"
      },
      "source": [
        "from shapely.geometry import LineString, Polygon, Point\n",
        "import time\n",
        "\n",
        "def query(pop, theta_x):\n",
        "    c = 0\n",
        "    t = 1000\n",
        "    while True:\n",
        "      (w1, x1), (w2, x2) = random.sample(pop,2)\n",
        "      if (x1, x2) not in theta_x and (x2, x1) not in theta_x and x1 != x2:\n",
        "        break\n",
        "      if c >= t:\n",
        "        return (None, None), (None, None)\n",
        "      c+=1\n",
        "    #pop_non_dup = [p for p in pop if p[0] not in big_o_x]\n",
        "    return (w1, x1), (w2, x2)\n",
        "# omega_linear_constraints = [[coefficient of w1,w2,w3, bias]]\n",
        "# cw1 * w1 + cw2 * w2 + ... + cwn * wn + bias <= 0\n",
        "# only allow 3 objective max\n",
        "\n",
        "def ask_DM(x1,x2,w_star):\n",
        "    y1 = objective(x1)\n",
        "    y2 = objective(x2)\n",
        "    fyx1 = scalarizer(w_star, y1)\n",
        "    fyx2 = scalarizer(w_star, y2)\n",
        "    if fyx1 <= fyx2:\n",
        "      return x1, x2, y1, y2\n",
        "    else:\n",
        "      return x2, x1, y2, y1\n",
        "\n",
        "def solve_omega_set(a,b,omega_set,lines):\n",
        "    cw1 = a[0] - b[0] - (a[2] - b[2])\n",
        "    cw2 = a[1] - b[2] - (a[2] - b[2])\n",
        "    bias = a[2] - b[2]\n",
        "    if cw1 == 0 or cw2 == 0:\n",
        "      return omega_set, lines \n",
        "      \n",
        "    p1 = (-bias/cw1,0)\n",
        "    p2 = (0,-bias/cw2)\n",
        "    lines.append(LineString([p1, p2]))\n",
        "    intersect = []\n",
        "    for i in range(len(lines)-1):\n",
        "      for j in range(i+1, len(lines)):\n",
        "        intersect_point = lines[i].intersection(lines[j])\n",
        "        if type(intersect_point) == Point and intersect_point.coords != []:\n",
        "          intersect.append((intersect_point.x,intersect_point.y))\n",
        "    polygon = Polygon(intersect)\n",
        "    while True:\n",
        "      random_coord_x, random_coord_y = random.random(),random.random()\n",
        "      if polygon.contains(Point(random_coord_x, random_coord_y)):\n",
        "        break\n",
        "    new_omega = [random_coord_x, random_coord_y, 1-(random_coord_x+random_coord_y)]\n",
        "    omega_set.append(new_omega)\n",
        "    return omega_set, lines\n",
        "\n",
        "def riga_search(map, threshold = 0, n_objectives = 3, s=4, k=2, m=2, no_improvement_threshold=20):\n",
        "    start_time = time.time()\n",
        "    dm_counter = 0\n",
        "    theta_x = []\n",
        "    omega_set = polyhedral(n_objectives)\n",
        "    linear_constraints = initialize_linear_constraints(omega_set)\n",
        "    pop = [] \n",
        "    for w in omega_set:\n",
        "      x = find_optimal_x(w,map).tolist()\n",
        "      pop.append((w,x))\n",
        "    print('initial pop : ',pop)\n",
        "    for gen in range(m):\n",
        "      children_w = crossover_mutation(omega_set, s-len(pop))\n",
        "      children_w_x = [(w, find_optimal_x(w,map).tolist()) for w in children_w]\n",
        "      pop = pop + children_w_x\n",
        "      print('Generation : ',gen, 'Population : ',pop)\n",
        "      X_pop = [x for (w,x) in pop]\n",
        "      mmr, x_star, w_star = minimax_regret(omega_set, X_pop)\n",
        "      lastest_x_star = x_star\n",
        "      no_improvement = 0\n",
        "      while mmr > threshold:\n",
        "        print('DM Loop : ', dm_counter)\n",
        "        dm_counter += 1\n",
        "        (w1, x1), (w2, x2) = query(pop,theta_x)\n",
        "        if w1 is None:\n",
        "          break\n",
        "        xa, xb, ya, yb = ask_DM(x1,x2,w_star)\n",
        "        theta_x.append((xa, xb))\n",
        "        omega_set, linear_constraints = solve_omega_set(ya, yb, omega_set, linear_constraints)\n",
        "        mmr, x_star, w_star = minimax_regret(omega_set, X_pop)\n",
        "        if lastest_x_star == x_star:\n",
        "          no_improvement += 1\n",
        "        else:\n",
        "          no_improvement = 0\n",
        "        lastest_x_star = x_star\n",
        "        if no_improvement > no_improvement_threshold:\n",
        "          break\n",
        "      X_pop, pop = selection(x_star, pop, k)\n",
        "    return x_star, dm_counter, time.time() - start_time, mmr, w_star\n"
      ],
      "execution_count": 12,
      "outputs": []
    },
    {
      "cell_type": "markdown",
      "metadata": {
        "id": "zWFHa-Ehf7vG"
      },
      "source": [
        "# RIGA-S"
      ]
    },
    {
      "cell_type": "code",
      "metadata": {
        "id": "NGvDGxdff6cm"
      },
      "source": [
        "def selection_riga_s(x, X_pop, k):\n",
        "    dist_array = [get_tuple_distance(x,p) for p in X_pop]\n",
        "    sort_index = np.argsort(dist_array).tolist()\n",
        "    selected_x = [X_pop[i] for i in sort_index[0:k]]\n",
        "    return selected_x\n",
        "  \n",
        "def query_riga_s(X_pop, theta_x):\n",
        "    c = 0\n",
        "    t = 1000\n",
        "    while True:\n",
        "      x1, x2 = random.sample(X_pop,2)\n",
        "      if (x1, x2) not in theta_x and (x2, x1) not in theta_x and x1 != x2:\n",
        "        break\n",
        "      if c >= t:\n",
        "        return None, None\n",
        "      c+=1\n",
        "    #pop_non_dup = [p for p in pop if p[0] not in big_o_x]\n",
        "    return x1, x2\n",
        "# omega_linear_constraints = [[coefficient of w1,w2,w3, bias]]\n",
        "# cw1 * w1 + cw2 * w2 + ... + cwn * wn + bias <= 0\n",
        "# only allow 3 objective max\n",
        "\n",
        "def riga_s_search(map, threshold = 0, n_objectives = 3, s=4, k=2, m=2, no_improvement_threshold=20):\n",
        "    start_time = time.time()\n",
        "    dm_counter = 0\n",
        "    theta_x = []\n",
        "    omega_set = polyhedral(n_objectives)\n",
        "    linear_constraints = initialize_linear_constraints(omega_set)\n",
        "    X_pop = []\n",
        "    for w in omega_set:\n",
        "      x = find_optimal_x(w,map).tolist()\n",
        "      X_pop.append(x)\n",
        "    print('initial pop : ',X_pop)\n",
        "    for gen in range(m):\n",
        "      children_x = crossover_mutation(X_pop, s-len(X_pop),c_type='solution')\n",
        "      X_pop = X_pop + children_x\n",
        "      print('Generation : ',gen, 'Population : ',X_pop)\n",
        "      mmr, x_star, w_star = minimax_regret(omega_set, X_pop)\n",
        "      lastest_x_star = x_star\n",
        "      no_improvement = 0\n",
        "      while mmr > threshold:\n",
        "        print('-----------------------------------------------')\n",
        "        print('DM Loop : ', dm_counter)\n",
        "        dm_counter += 1\n",
        "        x1, x2 = query_riga_s(X_pop,theta_x)\n",
        "        if x1 is None:\n",
        "          break\n",
        "        xa, xb, ya, yb = ask_DM(x1,x2,w_star)\n",
        "        theta_x.append((xa, xb))\n",
        "        omega_set, linear_constraints = solve_omega_set(ya, yb, omega_set, linear_constraints)\n",
        "        #print('After adjust omega : ', omega_set)\n",
        "        mmr, x_star, w_star = minimax_regret(omega_set, X_pop)\n",
        "        if lastest_x_star == x_star:\n",
        "          no_improvement += 1\n",
        "        else:\n",
        "          no_improvement = 0\n",
        "        lastest_x_star = x_star\n",
        "        if no_improvement > no_improvement_threshold:\n",
        "          break\n",
        "      X_pop = selection_riga_s(x_star, X_pop, k)\n",
        "    return x_star, dm_counter, time.time() - start_time, mmr, w_star\n"
      ],
      "execution_count": 13,
      "outputs": []
    },
    {
      "cell_type": "markdown",
      "metadata": {
        "id": "uiMNvNJ8_LtU"
      },
      "source": [
        "# IEEP Algorithm"
      ]
    },
    {
      "cell_type": "code",
      "metadata": {
        "id": "p99YflqS_LtY"
      },
      "source": [
        "from shapely.geometry import LineString, Polygon, Point\n",
        "import time\n",
        "def query_ieep(n_cities, big_o_x):\n",
        "    c = 0\n",
        "    t = 1000\n",
        "    while True:\n",
        "      x1, x2 = [0]+np.random.permutation(list(range(1,n_cities))).tolist(), [0]+np.random.permutation(list(range(1,n_cities))).tolist()\n",
        "      if (x1, x2) not in big_o_x and (x2, x1) not in big_o_x and x1 != x2:\n",
        "        break\n",
        "      if c >= t:\n",
        "        return None, None\n",
        "      c+=1\n",
        "    return x1, x2\n",
        "\n",
        "def ieep_search(map, n_cities, threshold = 0, n_objectives = 3, no_improvement_threshold=10):\n",
        "    start_time = time.time()\n",
        "    dm_counter = 0\n",
        "    omega_set = polyhedral(n_objectives)\n",
        "    linear_constraints = initialize_linear_constraints(omega_set)\n",
        "    theta_x = []\n",
        "    X_pop = []\n",
        "    for w in omega_set:\n",
        "      x = find_optimal_x(w,map).tolist()\n",
        "      #pop.append((w,x))\n",
        "      X_pop.append(x)\n",
        "    mmr, x_star, w_star = minimax_regret(omega_set, X_pop)\n",
        "    lastest_x_star = x_star\n",
        "    no_improvement = 0\n",
        "\n",
        "    while mmr > threshold:\n",
        "      print('DM Loop : ', dm_counter)\n",
        "      dm_counter += 1\n",
        "      x1, x2 = query_ieep(n_cities, theta_x)\n",
        "      X_pop.append(x1)\n",
        "      X_pop.append(x2)\n",
        "      _, _, ya, yb = ask_DM(x1,x2,w_star)\n",
        "      omega_set, linear_constraints = solve_omega_set(ya, yb, omega_set, linear_constraints)\n",
        "      mmr, x_star, w_star = minimax_regret(omega_set, X_pop)\n",
        "      print('Omega set : ', omega_set)\n",
        "      \n",
        "      if lastest_x_star == x_star:\n",
        "        no_improvement += 1\n",
        "      else:\n",
        "        no_improvement = 0\n",
        "      lastest_x_star = x_star\n",
        "      if no_improvement > no_improvement_threshold:\n",
        "        break\n",
        "    return x_star, dm_counter, time.time() - start_time, mmr, w_star\n"
      ],
      "execution_count": 14,
      "outputs": []
    },
    {
      "cell_type": "markdown",
      "metadata": {
        "id": "kZIC9iJ4A-FA"
      },
      "source": [
        "# NSGA-II"
      ]
    },
    {
      "cell_type": "code",
      "metadata": {
        "id": "bBngzCzEBBa5"
      },
      "source": [
        "def search_NSGA2(map):\n",
        "  start_time = time.time()\n",
        "  res = find_optimal_result([1,1,1],map)\n",
        "  x_star = res.X\n",
        "  obj_value = [tuple(f) for f in res.F]\n",
        "  return x_star, time.time() - start_time, obj_value"
      ],
      "execution_count": 15,
      "outputs": []
    },
    {
      "cell_type": "markdown",
      "metadata": {
        "id": "mebVetdl876t"
      },
      "source": [
        "# Evaluation"
      ]
    },
    {
      "cell_type": "markdown",
      "metadata": {
        "id": "qR14FYpv8ydO"
      },
      "source": [
        "## Generate Pareto Front"
      ]
    },
    {
      "cell_type": "code",
      "metadata": {
        "id": "0hW3g2mCHUba"
      },
      "source": [
        "import pygmo as pg\n",
        "import math\n",
        "\n",
        "def get_hypervolume(test_y, ref_point):\n",
        "  hv = pg.hypervolume(test_y).compute(ref_point)\n",
        "  return round(hv,2)\n",
        "  \n",
        "def evaluate(test_y, pareto_front, ref_point):\n",
        "  test_hv = get_hypervolume(test_y, ref_point)\n",
        "  pareto_hv = get_hypervolume(pareto_front, ref_point)\n",
        "  return round(test_hv/pareto_hv,2)"
      ],
      "execution_count": 16,
      "outputs": []
    },
    {
      "cell_type": "code",
      "metadata": {
        "id": "eX96X_0882dc"
      },
      "source": [
        "## This is a function to find the pareto optimal and pareto front for the evaluation\n",
        "\n",
        "# Very slow for many datapoints.  Fastest for many costs, most readable\n",
        "def is_pareto_efficient_dumb(costs):\n",
        "    \"\"\"\n",
        "    Find the pareto-efficient points\n",
        "    :param costs: An (n_points, n_costs) array\n",
        "    :return: A (n_points, ) boolean array, indicating whether each point is Pareto efficient\n",
        "    \"\"\"\n",
        "    is_efficient = np.ones(costs.shape[0], dtype = bool)\n",
        "    for i, c in enumerate(costs):\n",
        "        is_efficient[i] = np.all(np.any(costs[:i]>c, axis=1)) and np.all(np.any(costs[i+1:]>c, axis=1))\n",
        "    return is_efficient\n",
        "\n",
        "\n",
        "# Fairly fast for many datapoints, less fast for many costs, somewhat readable\n",
        "def is_pareto_efficient_simple(costs):\n",
        "    \"\"\"\n",
        "    Find the pareto-efficient points\n",
        "    :param costs: An (n_points, n_costs) array\n",
        "    :return: A (n_points, ) boolean array, indicating whether each point is Pareto efficient\n",
        "    \"\"\"\n",
        "    is_efficient = np.ones(costs.shape[0], dtype = bool)\n",
        "    for i, c in enumerate(costs):\n",
        "        if is_efficient[i]:\n",
        "            is_efficient[is_efficient] = np.any(costs[is_efficient]<c, axis=1)  # Keep any point with a lower cost\n",
        "            is_efficient[i] = True  # And keep self\n",
        "    return is_efficient\n",
        "\n",
        "\n",
        "# Faster than is_pareto_efficient_simple, but less readable.\n",
        "def is_pareto_efficient(costs, return_mask = True):\n",
        "    \"\"\"\n",
        "    Find the pareto-efficient points\n",
        "    :param costs: An (n_points, n_costs) array\n",
        "    :param return_mask: True to return a mask\n",
        "    :return: An array of indices of pareto-efficient points.\n",
        "        If return_mask is True, this will be an (n_points, ) boolean array\n",
        "        Otherwise it will be a (n_efficient_points, ) integer array of indices.\n",
        "    \"\"\"\n",
        "    is_efficient = np.arange(costs.shape[0])\n",
        "    n_points = costs.shape[0]\n",
        "    next_point_index = 0  # Next index in the is_efficient array to search for\n",
        "    while next_point_index<len(costs):\n",
        "        nondominated_point_mask = np.any(costs<costs[next_point_index], axis=1)\n",
        "        nondominated_point_mask[next_point_index] = True\n",
        "        is_efficient = is_efficient[nondominated_point_mask]  # Remove dominated points\n",
        "        costs = costs[nondominated_point_mask]\n",
        "        next_point_index = np.sum(nondominated_point_mask[:next_point_index])+1\n",
        "    if return_mask:\n",
        "        is_efficient_mask = np.zeros(n_points, dtype = bool)\n",
        "        is_efficient_mask[is_efficient] = True\n",
        "        return is_efficient_mask\n",
        "    else:\n",
        "        return is_efficient"
      ],
      "execution_count": 17,
      "outputs": []
    },
    {
      "cell_type": "code",
      "metadata": {
        "id": "azTAsY6knBIS"
      },
      "source": [
        "from itertools import permutations\n",
        "all_possible_solution = [[0]+list(p) for p in permutations(list(range(1,n_cities)))]\n",
        "obj_list = []\n",
        "for x in all_possible_solution:\n",
        "  obj_list.append(list(objective(x)))\n",
        "pareto_front_idx = is_pareto_efficient(np.array(obj_list))\n",
        "pareto_front = np.array(obj_list)[pareto_front_idx]\n",
        "\n",
        "ref_point = np.ones(n_objectives)*((n_cities-1) * grid_size * math.sqrt(2))"
      ],
      "execution_count": 18,
      "outputs": []
    },
    {
      "cell_type": "markdown",
      "metadata": {
        "id": "uV8g-EXb2CC8"
      },
      "source": [
        "## RIGA Evaluation"
      ]
    },
    {
      "cell_type": "code",
      "metadata": {
        "colab": {
          "base_uri": "https://localhost:8080/"
        },
        "id": "jGy5w9yeRH6t",
        "outputId": "45882383-9733-45c5-c5ba-33ff473b5e33"
      },
      "source": [
        "delta = 0\n",
        "n_pop = 30\n",
        "n_selection = 5\n",
        "n_generation = 15\n",
        "\n",
        "RIGA_best_x, n_queries, runtime, minimax_regret_value, best_w = riga_search(map = edges_map, threshold = delta, n_objectives = n_objectives, s=n_pop, k=n_selection, m=n_generation)\n",
        "print('Best Path: ', RIGA_best_x)\n",
        "print('Number of queries: ', n_queries)\n",
        "print('Time: ', runtime)\n",
        "print('MMR: ', minimax_regret_value)\n",
        "print('Objective Values:',objective(RIGA_best_x))\n",
        "print('Preference Value: ', scalarizer(best_w, objective(RIGA_best_x)))\n",
        "RIGA_hv = evaluate([objective(RIGA_best_x)], pareto_front, ref_point)\n",
        "print('RIGA Hyper Value: ', RIGA_hv)"
      ],
      "execution_count": 19,
      "outputs": [
        {
          "output_type": "stream",
          "text": [
            "initial pop :  [([1, 0, 0], [0, 2, 1]), ([0, 1, 0], [0, 2, 1]), ([0, 0, 1], [0, 2, 1])]\n",
            "Generation :  0 Population :  [([1, 0, 0], [0, 2, 1]), ([0, 1, 0], [0, 2, 1]), ([0, 0, 1], [0, 2, 1]), ((0.0, 1.0, 0.0), [0, 2, 1]), ((0.0, 0.5, 0.5), [0, 2, 1]), ((1.0, 0.0, 0.0), [0, 2, 1]), ((1.0, 0.0, 0.0), [0, 2, 1]), ((0.0, 1.0, 0.0), [0, 2, 1]), ((0.0, 0.5, 0.5), [0, 2, 1]), ((0.5, 0.5, 0.0), [0, 2, 1]), ((0.0, 0.5, 0.5), [0, 2, 1]), ((0.5, 0.0, 0.5), [0, 2, 1]), ((0.3333333333333333, 0.3333333333333333, 0.3333333333333333), [0, 2, 1]), ((0.0, 0.5, 0.5), [0, 2, 1]), ((0.3333333333333333, 0.3333333333333333, 0.3333333333333333), [0, 2, 1]), ((0.5, 0.5, 0.0), [0, 2, 1]), ((0.3333333333333333, 0.3333333333333333, 0.3333333333333333), [0, 2, 1]), ((0.3333333333333333, 0.3333333333333333, 0.3333333333333333), [0, 2, 1]), ((0.5, 0.0, 0.5), [0, 2, 1]), ((0.0, 0.5, 0.5), [0, 2, 1]), ((1.0, 0.0, 0.0), [0, 2, 1]), ((0.0, 0.5, 0.5), [0, 2, 1]), ((0.0, 0.5, 0.5), [0, 2, 1]), ((0.3333333333333333, 0.3333333333333333, 0.3333333333333333), [0, 2, 1]), ((0.5, 0.5, 0.0), [0, 2, 1]), ((0.0, 0.0, 1.0), [0, 2, 1]), ((0.3333333333333333, 0.3333333333333333, 0.3333333333333333), [0, 2, 1]), ((0.0, 0.0, 1.0), [0, 2, 1]), ((0.0, 0.5, 0.5), [0, 2, 1]), ((0.3333333333333333, 0.3333333333333333, 0.3333333333333333), [0, 2, 1])]\n",
            "MMR :  0.0 X* :  [0, 2, 1]\n",
            "W* :  [1, 0, 0]\n",
            "Generation :  1 Population :  [([1, 0, 0], [0, 2, 1]), ((0.0, 0.0, 1.0), [0, 2, 1]), ((0.3333333333333333, 0.3333333333333333, 0.3333333333333333), [0, 2, 1]), ((0.0, 0.0, 1.0), [0, 2, 1]), ((0.5, 0.5, 0.0), [0, 2, 1]), ((0.0, 1.0, 0.0), [0, 2, 1]), ((0.0, 0.5, 0.5), [0, 2, 1]), ((1.0, 0.0, 0.0), [0, 2, 1]), ((1.0, 0.0, 0.0), [0, 2, 1]), ((0.0, 1.0, 0.0), [0, 2, 1]), ((0.0, 0.5, 0.5), [0, 2, 1]), ((0.5, 0.5, 0.0), [0, 2, 1]), ((0.0, 0.5, 0.5), [0, 2, 1]), ((0.5, 0.0, 0.5), [0, 2, 1]), ((0.3333333333333333, 0.3333333333333333, 0.3333333333333333), [0, 2, 1]), ((0.0, 0.5, 0.5), [0, 2, 1]), ((0.3333333333333333, 0.3333333333333333, 0.3333333333333333), [0, 2, 1]), ((0.5, 0.5, 0.0), [0, 2, 1]), ((0.3333333333333333, 0.3333333333333333, 0.3333333333333333), [0, 2, 1]), ((0.3333333333333333, 0.3333333333333333, 0.3333333333333333), [0, 2, 1]), ((0.5, 0.0, 0.5), [0, 2, 1]), ((0.0, 0.5, 0.5), [0, 2, 1]), ((1.0, 0.0, 0.0), [0, 2, 1]), ((0.0, 0.5, 0.5), [0, 2, 1]), ((0.0, 0.5, 0.5), [0, 2, 1]), ((0.3333333333333333, 0.3333333333333333, 0.3333333333333333), [0, 2, 1]), ((0.5, 0.5, 0.0), [0, 2, 1]), ((0.0, 0.0, 1.0), [0, 2, 1]), ((0.3333333333333333, 0.3333333333333333, 0.3333333333333333), [0, 2, 1]), ((0.0, 0.0, 1.0), [0, 2, 1])]\n",
            "MMR :  0.0 X* :  [0, 2, 1]\n",
            "W* :  [1, 0, 0]\n",
            "Generation :  2 Population :  [([1, 0, 0], [0, 2, 1]), ((0.0, 0.0, 1.0), [0, 2, 1]), ((0.5, 0.5, 0.0), [0, 2, 1]), ((0.3333333333333333, 0.3333333333333333, 0.3333333333333333), [0, 2, 1]), ((0.0, 0.5, 0.5), [0, 2, 1]), ((0.0, 1.0, 0.0), [0, 2, 1]), ((0.0, 0.5, 0.5), [0, 2, 1]), ((1.0, 0.0, 0.0), [0, 2, 1]), ((1.0, 0.0, 0.0), [0, 2, 1]), ((0.0, 1.0, 0.0), [0, 2, 1]), ((0.0, 0.5, 0.5), [0, 2, 1]), ((0.5, 0.5, 0.0), [0, 2, 1]), ((0.0, 0.5, 0.5), [0, 2, 1]), ((0.5, 0.0, 0.5), [0, 2, 1]), ((0.3333333333333333, 0.3333333333333333, 0.3333333333333333), [0, 2, 1]), ((0.0, 0.5, 0.5), [0, 2, 1]), ((0.3333333333333333, 0.3333333333333333, 0.3333333333333333), [0, 2, 1]), ((0.5, 0.5, 0.0), [0, 2, 1]), ((0.3333333333333333, 0.3333333333333333, 0.3333333333333333), [0, 2, 1]), ((0.3333333333333333, 0.3333333333333333, 0.3333333333333333), [0, 2, 1]), ((0.5, 0.0, 0.5), [0, 2, 1]), ((0.0, 0.5, 0.5), [0, 2, 1]), ((1.0, 0.0, 0.0), [0, 2, 1]), ((0.0, 0.5, 0.5), [0, 2, 1]), ((0.0, 0.5, 0.5), [0, 2, 1]), ((0.3333333333333333, 0.3333333333333333, 0.3333333333333333), [0, 2, 1]), ((0.5, 0.5, 0.0), [0, 2, 1]), ((0.0, 0.0, 1.0), [0, 2, 1]), ((0.3333333333333333, 0.3333333333333333, 0.3333333333333333), [0, 2, 1]), ((0.0, 0.0, 1.0), [0, 2, 1])]\n",
            "MMR :  0.0 X* :  [0, 2, 1]\n",
            "W* :  [1, 0, 0]\n",
            "Generation :  3 Population :  [([1, 0, 0], [0, 2, 1]), ((0.0, 0.0, 1.0), [0, 2, 1]), ((0.5, 0.5, 0.0), [0, 2, 1]), ((0.3333333333333333, 0.3333333333333333, 0.3333333333333333), [0, 2, 1]), ((0.0, 0.5, 0.5), [0, 2, 1]), ((0.0, 1.0, 0.0), [0, 2, 1]), ((0.0, 0.5, 0.5), [0, 2, 1]), ((1.0, 0.0, 0.0), [0, 2, 1]), ((1.0, 0.0, 0.0), [0, 2, 1]), ((0.0, 1.0, 0.0), [0, 2, 1]), ((0.0, 0.5, 0.5), [0, 2, 1]), ((0.5, 0.5, 0.0), [0, 2, 1]), ((0.0, 0.5, 0.5), [0, 2, 1]), ((0.5, 0.0, 0.5), [0, 2, 1]), ((0.3333333333333333, 0.3333333333333333, 0.3333333333333333), [0, 2, 1]), ((0.0, 0.5, 0.5), [0, 2, 1]), ((0.3333333333333333, 0.3333333333333333, 0.3333333333333333), [0, 2, 1]), ((0.5, 0.5, 0.0), [0, 2, 1]), ((0.3333333333333333, 0.3333333333333333, 0.3333333333333333), [0, 2, 1]), ((0.3333333333333333, 0.3333333333333333, 0.3333333333333333), [0, 2, 1]), ((0.5, 0.0, 0.5), [0, 2, 1]), ((0.0, 0.5, 0.5), [0, 2, 1]), ((1.0, 0.0, 0.0), [0, 2, 1]), ((0.0, 0.5, 0.5), [0, 2, 1]), ((0.0, 0.5, 0.5), [0, 2, 1]), ((0.3333333333333333, 0.3333333333333333, 0.3333333333333333), [0, 2, 1]), ((0.5, 0.5, 0.0), [0, 2, 1]), ((0.0, 0.0, 1.0), [0, 2, 1]), ((0.3333333333333333, 0.3333333333333333, 0.3333333333333333), [0, 2, 1]), ((0.0, 0.0, 1.0), [0, 2, 1])]\n",
            "MMR :  0.0 X* :  [0, 2, 1]\n",
            "W* :  [1, 0, 0]\n",
            "Generation :  4 Population :  [([1, 0, 0], [0, 2, 1]), ((0.0, 0.0, 1.0), [0, 2, 1]), ((0.5, 0.5, 0.0), [0, 2, 1]), ((0.3333333333333333, 0.3333333333333333, 0.3333333333333333), [0, 2, 1]), ((0.0, 0.5, 0.5), [0, 2, 1]), ((0.0, 1.0, 0.0), [0, 2, 1]), ((0.0, 0.5, 0.5), [0, 2, 1]), ((1.0, 0.0, 0.0), [0, 2, 1]), ((1.0, 0.0, 0.0), [0, 2, 1]), ((0.0, 1.0, 0.0), [0, 2, 1]), ((0.0, 0.5, 0.5), [0, 2, 1]), ((0.5, 0.5, 0.0), [0, 2, 1]), ((0.0, 0.5, 0.5), [0, 2, 1]), ((0.5, 0.0, 0.5), [0, 2, 1]), ((0.3333333333333333, 0.3333333333333333, 0.3333333333333333), [0, 2, 1]), ((0.0, 0.5, 0.5), [0, 2, 1]), ((0.3333333333333333, 0.3333333333333333, 0.3333333333333333), [0, 2, 1]), ((0.5, 0.5, 0.0), [0, 2, 1]), ((0.3333333333333333, 0.3333333333333333, 0.3333333333333333), [0, 2, 1]), ((0.3333333333333333, 0.3333333333333333, 0.3333333333333333), [0, 2, 1]), ((0.5, 0.0, 0.5), [0, 2, 1]), ((0.0, 0.5, 0.5), [0, 2, 1]), ((1.0, 0.0, 0.0), [0, 2, 1]), ((0.0, 0.5, 0.5), [0, 2, 1]), ((0.0, 0.5, 0.5), [0, 2, 1]), ((0.3333333333333333, 0.3333333333333333, 0.3333333333333333), [0, 2, 1]), ((0.5, 0.5, 0.0), [0, 2, 1]), ((0.0, 0.0, 1.0), [0, 2, 1]), ((0.3333333333333333, 0.3333333333333333, 0.3333333333333333), [0, 2, 1]), ((0.0, 0.0, 1.0), [0, 2, 1])]\n",
            "MMR :  0.0 X* :  [0, 2, 1]\n",
            "W* :  [1, 0, 0]\n",
            "Generation :  5 Population :  [([1, 0, 0], [0, 2, 1]), ((0.0, 0.0, 1.0), [0, 2, 1]), ((0.5, 0.5, 0.0), [0, 2, 1]), ((0.3333333333333333, 0.3333333333333333, 0.3333333333333333), [0, 2, 1]), ((0.0, 0.5, 0.5), [0, 2, 1]), ((0.0, 1.0, 0.0), [0, 2, 1]), ((0.0, 0.5, 0.5), [0, 2, 1]), ((1.0, 0.0, 0.0), [0, 2, 1]), ((1.0, 0.0, 0.0), [0, 2, 1]), ((0.0, 1.0, 0.0), [0, 2, 1]), ((0.0, 0.5, 0.5), [0, 2, 1]), ((0.5, 0.5, 0.0), [0, 2, 1]), ((0.0, 0.5, 0.5), [0, 2, 1]), ((0.5, 0.0, 0.5), [0, 2, 1]), ((0.3333333333333333, 0.3333333333333333, 0.3333333333333333), [0, 2, 1]), ((0.0, 0.5, 0.5), [0, 2, 1]), ((0.3333333333333333, 0.3333333333333333, 0.3333333333333333), [0, 2, 1]), ((0.5, 0.5, 0.0), [0, 2, 1]), ((0.3333333333333333, 0.3333333333333333, 0.3333333333333333), [0, 2, 1]), ((0.3333333333333333, 0.3333333333333333, 0.3333333333333333), [0, 2, 1]), ((0.5, 0.0, 0.5), [0, 2, 1]), ((0.0, 0.5, 0.5), [0, 2, 1]), ((1.0, 0.0, 0.0), [0, 2, 1]), ((0.0, 0.5, 0.5), [0, 2, 1]), ((0.0, 0.5, 0.5), [0, 2, 1]), ((0.3333333333333333, 0.3333333333333333, 0.3333333333333333), [0, 2, 1]), ((0.5, 0.5, 0.0), [0, 2, 1]), ((0.0, 0.0, 1.0), [0, 2, 1]), ((0.3333333333333333, 0.3333333333333333, 0.3333333333333333), [0, 2, 1]), ((0.0, 0.0, 1.0), [0, 2, 1])]\n",
            "MMR :  0.0 X* :  [0, 2, 1]\n",
            "W* :  [1, 0, 0]\n",
            "Generation :  6 Population :  [([1, 0, 0], [0, 2, 1]), ((0.0, 0.0, 1.0), [0, 2, 1]), ((0.5, 0.5, 0.0), [0, 2, 1]), ((0.3333333333333333, 0.3333333333333333, 0.3333333333333333), [0, 2, 1]), ((0.0, 0.5, 0.5), [0, 2, 1]), ((0.0, 1.0, 0.0), [0, 2, 1]), ((0.0, 0.5, 0.5), [0, 2, 1]), ((1.0, 0.0, 0.0), [0, 2, 1]), ((1.0, 0.0, 0.0), [0, 2, 1]), ((0.0, 1.0, 0.0), [0, 2, 1]), ((0.0, 0.5, 0.5), [0, 2, 1]), ((0.5, 0.5, 0.0), [0, 2, 1]), ((0.0, 0.5, 0.5), [0, 2, 1]), ((0.5, 0.0, 0.5), [0, 2, 1]), ((0.3333333333333333, 0.3333333333333333, 0.3333333333333333), [0, 2, 1]), ((0.0, 0.5, 0.5), [0, 2, 1]), ((0.3333333333333333, 0.3333333333333333, 0.3333333333333333), [0, 2, 1]), ((0.5, 0.5, 0.0), [0, 2, 1]), ((0.3333333333333333, 0.3333333333333333, 0.3333333333333333), [0, 2, 1]), ((0.3333333333333333, 0.3333333333333333, 0.3333333333333333), [0, 2, 1]), ((0.5, 0.0, 0.5), [0, 2, 1]), ((0.0, 0.5, 0.5), [0, 2, 1]), ((1.0, 0.0, 0.0), [0, 2, 1]), ((0.0, 0.5, 0.5), [0, 2, 1]), ((0.0, 0.5, 0.5), [0, 2, 1]), ((0.3333333333333333, 0.3333333333333333, 0.3333333333333333), [0, 2, 1]), ((0.5, 0.5, 0.0), [0, 2, 1]), ((0.0, 0.0, 1.0), [0, 2, 1]), ((0.3333333333333333, 0.3333333333333333, 0.3333333333333333), [0, 2, 1]), ((0.0, 0.0, 1.0), [0, 2, 1])]\n",
            "MMR :  0.0 X* :  [0, 2, 1]\n",
            "W* :  [1, 0, 0]\n",
            "Generation :  7 Population :  [([1, 0, 0], [0, 2, 1]), ((0.0, 0.0, 1.0), [0, 2, 1]), ((0.5, 0.5, 0.0), [0, 2, 1]), ((0.3333333333333333, 0.3333333333333333, 0.3333333333333333), [0, 2, 1]), ((0.0, 0.5, 0.5), [0, 2, 1]), ((0.0, 1.0, 0.0), [0, 2, 1]), ((0.0, 0.5, 0.5), [0, 2, 1]), ((1.0, 0.0, 0.0), [0, 2, 1]), ((1.0, 0.0, 0.0), [0, 2, 1]), ((0.0, 1.0, 0.0), [0, 2, 1]), ((0.0, 0.5, 0.5), [0, 2, 1]), ((0.5, 0.5, 0.0), [0, 2, 1]), ((0.0, 0.5, 0.5), [0, 2, 1]), ((0.5, 0.0, 0.5), [0, 2, 1]), ((0.3333333333333333, 0.3333333333333333, 0.3333333333333333), [0, 2, 1]), ((0.0, 0.5, 0.5), [0, 2, 1]), ((0.3333333333333333, 0.3333333333333333, 0.3333333333333333), [0, 2, 1]), ((0.5, 0.5, 0.0), [0, 2, 1]), ((0.3333333333333333, 0.3333333333333333, 0.3333333333333333), [0, 2, 1]), ((0.3333333333333333, 0.3333333333333333, 0.3333333333333333), [0, 2, 1]), ((0.5, 0.0, 0.5), [0, 2, 1]), ((0.0, 0.5, 0.5), [0, 2, 1]), ((1.0, 0.0, 0.0), [0, 2, 1]), ((0.0, 0.5, 0.5), [0, 2, 1]), ((0.0, 0.5, 0.5), [0, 2, 1]), ((0.3333333333333333, 0.3333333333333333, 0.3333333333333333), [0, 2, 1]), ((0.5, 0.5, 0.0), [0, 2, 1]), ((0.0, 0.0, 1.0), [0, 2, 1]), ((0.3333333333333333, 0.3333333333333333, 0.3333333333333333), [0, 2, 1]), ((0.0, 0.0, 1.0), [0, 2, 1])]\n",
            "MMR :  0.0 X* :  [0, 2, 1]\n",
            "W* :  [1, 0, 0]\n",
            "Generation :  8 Population :  [([1, 0, 0], [0, 2, 1]), ((0.0, 0.0, 1.0), [0, 2, 1]), ((0.5, 0.5, 0.0), [0, 2, 1]), ((0.3333333333333333, 0.3333333333333333, 0.3333333333333333), [0, 2, 1]), ((0.0, 0.5, 0.5), [0, 2, 1]), ((0.0, 1.0, 0.0), [0, 2, 1]), ((0.0, 0.5, 0.5), [0, 2, 1]), ((1.0, 0.0, 0.0), [0, 2, 1]), ((1.0, 0.0, 0.0), [0, 2, 1]), ((0.0, 1.0, 0.0), [0, 2, 1]), ((0.0, 0.5, 0.5), [0, 2, 1]), ((0.5, 0.5, 0.0), [0, 2, 1]), ((0.0, 0.5, 0.5), [0, 2, 1]), ((0.5, 0.0, 0.5), [0, 2, 1]), ((0.3333333333333333, 0.3333333333333333, 0.3333333333333333), [0, 2, 1]), ((0.0, 0.5, 0.5), [0, 2, 1]), ((0.3333333333333333, 0.3333333333333333, 0.3333333333333333), [0, 2, 1]), ((0.5, 0.5, 0.0), [0, 2, 1]), ((0.3333333333333333, 0.3333333333333333, 0.3333333333333333), [0, 2, 1]), ((0.3333333333333333, 0.3333333333333333, 0.3333333333333333), [0, 2, 1]), ((0.5, 0.0, 0.5), [0, 2, 1]), ((0.0, 0.5, 0.5), [0, 2, 1]), ((1.0, 0.0, 0.0), [0, 2, 1]), ((0.0, 0.5, 0.5), [0, 2, 1]), ((0.0, 0.5, 0.5), [0, 2, 1]), ((0.3333333333333333, 0.3333333333333333, 0.3333333333333333), [0, 2, 1]), ((0.5, 0.5, 0.0), [0, 2, 1]), ((0.0, 0.0, 1.0), [0, 2, 1]), ((0.3333333333333333, 0.3333333333333333, 0.3333333333333333), [0, 2, 1]), ((0.0, 0.0, 1.0), [0, 2, 1])]\n",
            "MMR :  0.0 X* :  [0, 2, 1]\n",
            "W* :  [1, 0, 0]\n",
            "Generation :  9 Population :  [([1, 0, 0], [0, 2, 1]), ((0.0, 0.0, 1.0), [0, 2, 1]), ((0.5, 0.5, 0.0), [0, 2, 1]), ((0.3333333333333333, 0.3333333333333333, 0.3333333333333333), [0, 2, 1]), ((0.0, 0.5, 0.5), [0, 2, 1]), ((0.0, 1.0, 0.0), [0, 2, 1]), ((0.0, 0.5, 0.5), [0, 2, 1]), ((1.0, 0.0, 0.0), [0, 2, 1]), ((1.0, 0.0, 0.0), [0, 2, 1]), ((0.0, 1.0, 0.0), [0, 2, 1]), ((0.0, 0.5, 0.5), [0, 2, 1]), ((0.5, 0.5, 0.0), [0, 2, 1]), ((0.0, 0.5, 0.5), [0, 2, 1]), ((0.5, 0.0, 0.5), [0, 2, 1]), ((0.3333333333333333, 0.3333333333333333, 0.3333333333333333), [0, 2, 1]), ((0.0, 0.5, 0.5), [0, 2, 1]), ((0.3333333333333333, 0.3333333333333333, 0.3333333333333333), [0, 2, 1]), ((0.5, 0.5, 0.0), [0, 2, 1]), ((0.3333333333333333, 0.3333333333333333, 0.3333333333333333), [0, 2, 1]), ((0.3333333333333333, 0.3333333333333333, 0.3333333333333333), [0, 2, 1]), ((0.5, 0.0, 0.5), [0, 2, 1]), ((0.0, 0.5, 0.5), [0, 2, 1]), ((1.0, 0.0, 0.0), [0, 2, 1]), ((0.0, 0.5, 0.5), [0, 2, 1]), ((0.0, 0.5, 0.5), [0, 2, 1]), ((0.3333333333333333, 0.3333333333333333, 0.3333333333333333), [0, 2, 1]), ((0.5, 0.5, 0.0), [0, 2, 1]), ((0.0, 0.0, 1.0), [0, 2, 1]), ((0.3333333333333333, 0.3333333333333333, 0.3333333333333333), [0, 2, 1]), ((0.0, 0.0, 1.0), [0, 2, 1])]\n",
            "MMR :  0.0 X* :  [0, 2, 1]\n",
            "W* :  [1, 0, 0]\n",
            "Generation :  10 Population :  [([1, 0, 0], [0, 2, 1]), ((0.0, 0.0, 1.0), [0, 2, 1]), ((0.5, 0.5, 0.0), [0, 2, 1]), ((0.3333333333333333, 0.3333333333333333, 0.3333333333333333), [0, 2, 1]), ((0.0, 0.5, 0.5), [0, 2, 1]), ((0.0, 1.0, 0.0), [0, 2, 1]), ((0.0, 0.5, 0.5), [0, 2, 1]), ((1.0, 0.0, 0.0), [0, 2, 1]), ((1.0, 0.0, 0.0), [0, 2, 1]), ((0.0, 1.0, 0.0), [0, 2, 1]), ((0.0, 0.5, 0.5), [0, 2, 1]), ((0.5, 0.5, 0.0), [0, 2, 1]), ((0.0, 0.5, 0.5), [0, 2, 1]), ((0.5, 0.0, 0.5), [0, 2, 1]), ((0.3333333333333333, 0.3333333333333333, 0.3333333333333333), [0, 2, 1]), ((0.0, 0.5, 0.5), [0, 2, 1]), ((0.3333333333333333, 0.3333333333333333, 0.3333333333333333), [0, 2, 1]), ((0.5, 0.5, 0.0), [0, 2, 1]), ((0.3333333333333333, 0.3333333333333333, 0.3333333333333333), [0, 2, 1]), ((0.3333333333333333, 0.3333333333333333, 0.3333333333333333), [0, 2, 1]), ((0.5, 0.0, 0.5), [0, 2, 1]), ((0.0, 0.5, 0.5), [0, 2, 1]), ((1.0, 0.0, 0.0), [0, 2, 1]), ((0.0, 0.5, 0.5), [0, 2, 1]), ((0.0, 0.5, 0.5), [0, 2, 1]), ((0.3333333333333333, 0.3333333333333333, 0.3333333333333333), [0, 2, 1]), ((0.5, 0.5, 0.0), [0, 2, 1]), ((0.0, 0.0, 1.0), [0, 2, 1]), ((0.3333333333333333, 0.3333333333333333, 0.3333333333333333), [0, 2, 1]), ((0.0, 0.0, 1.0), [0, 2, 1])]\n",
            "MMR :  0.0 X* :  [0, 2, 1]\n",
            "W* :  [1, 0, 0]\n",
            "Generation :  11 Population :  [([1, 0, 0], [0, 2, 1]), ((0.0, 0.0, 1.0), [0, 2, 1]), ((0.5, 0.5, 0.0), [0, 2, 1]), ((0.3333333333333333, 0.3333333333333333, 0.3333333333333333), [0, 2, 1]), ((0.0, 0.5, 0.5), [0, 2, 1]), ((0.0, 1.0, 0.0), [0, 2, 1]), ((0.0, 0.5, 0.5), [0, 2, 1]), ((1.0, 0.0, 0.0), [0, 2, 1]), ((1.0, 0.0, 0.0), [0, 2, 1]), ((0.0, 1.0, 0.0), [0, 2, 1]), ((0.0, 0.5, 0.5), [0, 2, 1]), ((0.5, 0.5, 0.0), [0, 2, 1]), ((0.0, 0.5, 0.5), [0, 2, 1]), ((0.5, 0.0, 0.5), [0, 2, 1]), ((0.3333333333333333, 0.3333333333333333, 0.3333333333333333), [0, 2, 1]), ((0.0, 0.5, 0.5), [0, 2, 1]), ((0.3333333333333333, 0.3333333333333333, 0.3333333333333333), [0, 2, 1]), ((0.5, 0.5, 0.0), [0, 2, 1]), ((0.3333333333333333, 0.3333333333333333, 0.3333333333333333), [0, 2, 1]), ((0.3333333333333333, 0.3333333333333333, 0.3333333333333333), [0, 2, 1]), ((0.5, 0.0, 0.5), [0, 2, 1]), ((0.0, 0.5, 0.5), [0, 2, 1]), ((1.0, 0.0, 0.0), [0, 2, 1]), ((0.0, 0.5, 0.5), [0, 2, 1]), ((0.0, 0.5, 0.5), [0, 2, 1]), ((0.3333333333333333, 0.3333333333333333, 0.3333333333333333), [0, 2, 1]), ((0.5, 0.5, 0.0), [0, 2, 1]), ((0.0, 0.0, 1.0), [0, 2, 1]), ((0.3333333333333333, 0.3333333333333333, 0.3333333333333333), [0, 2, 1]), ((0.0, 0.0, 1.0), [0, 2, 1])]\n",
            "MMR :  0.0 X* :  [0, 2, 1]\n",
            "W* :  [1, 0, 0]\n",
            "Generation :  12 Population :  [([1, 0, 0], [0, 2, 1]), ((0.0, 0.0, 1.0), [0, 2, 1]), ((0.5, 0.5, 0.0), [0, 2, 1]), ((0.3333333333333333, 0.3333333333333333, 0.3333333333333333), [0, 2, 1]), ((0.0, 0.5, 0.5), [0, 2, 1]), ((0.0, 1.0, 0.0), [0, 2, 1]), ((0.0, 0.5, 0.5), [0, 2, 1]), ((1.0, 0.0, 0.0), [0, 2, 1]), ((1.0, 0.0, 0.0), [0, 2, 1]), ((0.0, 1.0, 0.0), [0, 2, 1]), ((0.0, 0.5, 0.5), [0, 2, 1]), ((0.5, 0.5, 0.0), [0, 2, 1]), ((0.0, 0.5, 0.5), [0, 2, 1]), ((0.5, 0.0, 0.5), [0, 2, 1]), ((0.3333333333333333, 0.3333333333333333, 0.3333333333333333), [0, 2, 1]), ((0.0, 0.5, 0.5), [0, 2, 1]), ((0.3333333333333333, 0.3333333333333333, 0.3333333333333333), [0, 2, 1]), ((0.5, 0.5, 0.0), [0, 2, 1]), ((0.3333333333333333, 0.3333333333333333, 0.3333333333333333), [0, 2, 1]), ((0.3333333333333333, 0.3333333333333333, 0.3333333333333333), [0, 2, 1]), ((0.5, 0.0, 0.5), [0, 2, 1]), ((0.0, 0.5, 0.5), [0, 2, 1]), ((1.0, 0.0, 0.0), [0, 2, 1]), ((0.0, 0.5, 0.5), [0, 2, 1]), ((0.0, 0.5, 0.5), [0, 2, 1]), ((0.3333333333333333, 0.3333333333333333, 0.3333333333333333), [0, 2, 1]), ((0.5, 0.5, 0.0), [0, 2, 1]), ((0.0, 0.0, 1.0), [0, 2, 1]), ((0.3333333333333333, 0.3333333333333333, 0.3333333333333333), [0, 2, 1]), ((0.0, 0.0, 1.0), [0, 2, 1])]\n",
            "MMR :  0.0 X* :  [0, 2, 1]\n",
            "W* :  [1, 0, 0]\n",
            "Generation :  13 Population :  [([1, 0, 0], [0, 2, 1]), ((0.0, 0.0, 1.0), [0, 2, 1]), ((0.5, 0.5, 0.0), [0, 2, 1]), ((0.3333333333333333, 0.3333333333333333, 0.3333333333333333), [0, 2, 1]), ((0.0, 0.5, 0.5), [0, 2, 1]), ((0.0, 1.0, 0.0), [0, 2, 1]), ((0.0, 0.5, 0.5), [0, 2, 1]), ((1.0, 0.0, 0.0), [0, 2, 1]), ((1.0, 0.0, 0.0), [0, 2, 1]), ((0.0, 1.0, 0.0), [0, 2, 1]), ((0.0, 0.5, 0.5), [0, 2, 1]), ((0.5, 0.5, 0.0), [0, 2, 1]), ((0.0, 0.5, 0.5), [0, 2, 1]), ((0.5, 0.0, 0.5), [0, 2, 1]), ((0.3333333333333333, 0.3333333333333333, 0.3333333333333333), [0, 2, 1]), ((0.0, 0.5, 0.5), [0, 2, 1]), ((0.3333333333333333, 0.3333333333333333, 0.3333333333333333), [0, 2, 1]), ((0.5, 0.5, 0.0), [0, 2, 1]), ((0.3333333333333333, 0.3333333333333333, 0.3333333333333333), [0, 2, 1]), ((0.3333333333333333, 0.3333333333333333, 0.3333333333333333), [0, 2, 1]), ((0.5, 0.0, 0.5), [0, 2, 1]), ((0.0, 0.5, 0.5), [0, 2, 1]), ((1.0, 0.0, 0.0), [0, 2, 1]), ((0.0, 0.5, 0.5), [0, 2, 1]), ((0.0, 0.5, 0.5), [0, 2, 1]), ((0.3333333333333333, 0.3333333333333333, 0.3333333333333333), [0, 2, 1]), ((0.5, 0.5, 0.0), [0, 2, 1]), ((0.0, 0.0, 1.0), [0, 2, 1]), ((0.3333333333333333, 0.3333333333333333, 0.3333333333333333), [0, 2, 1]), ((0.0, 0.0, 1.0), [0, 2, 1])]\n",
            "MMR :  0.0 X* :  [0, 2, 1]\n",
            "W* :  [1, 0, 0]\n",
            "Generation :  14 Population :  [([1, 0, 0], [0, 2, 1]), ((0.0, 0.0, 1.0), [0, 2, 1]), ((0.5, 0.5, 0.0), [0, 2, 1]), ((0.3333333333333333, 0.3333333333333333, 0.3333333333333333), [0, 2, 1]), ((0.0, 0.5, 0.5), [0, 2, 1]), ((0.0, 1.0, 0.0), [0, 2, 1]), ((0.0, 0.5, 0.5), [0, 2, 1]), ((1.0, 0.0, 0.0), [0, 2, 1]), ((1.0, 0.0, 0.0), [0, 2, 1]), ((0.0, 1.0, 0.0), [0, 2, 1]), ((0.0, 0.5, 0.5), [0, 2, 1]), ((0.5, 0.5, 0.0), [0, 2, 1]), ((0.0, 0.5, 0.5), [0, 2, 1]), ((0.5, 0.0, 0.5), [0, 2, 1]), ((0.3333333333333333, 0.3333333333333333, 0.3333333333333333), [0, 2, 1]), ((0.0, 0.5, 0.5), [0, 2, 1]), ((0.3333333333333333, 0.3333333333333333, 0.3333333333333333), [0, 2, 1]), ((0.5, 0.5, 0.0), [0, 2, 1]), ((0.3333333333333333, 0.3333333333333333, 0.3333333333333333), [0, 2, 1]), ((0.3333333333333333, 0.3333333333333333, 0.3333333333333333), [0, 2, 1]), ((0.5, 0.0, 0.5), [0, 2, 1]), ((0.0, 0.5, 0.5), [0, 2, 1]), ((1.0, 0.0, 0.0), [0, 2, 1]), ((0.0, 0.5, 0.5), [0, 2, 1]), ((0.0, 0.5, 0.5), [0, 2, 1]), ((0.3333333333333333, 0.3333333333333333, 0.3333333333333333), [0, 2, 1]), ((0.5, 0.5, 0.0), [0, 2, 1]), ((0.0, 0.0, 1.0), [0, 2, 1]), ((0.3333333333333333, 0.3333333333333333, 0.3333333333333333), [0, 2, 1]), ((0.0, 0.0, 1.0), [0, 2, 1])]\n",
            "MMR :  0.0 X* :  [0, 2, 1]\n",
            "W* :  [1, 0, 0]\n",
            "Best Path:  [0, 2, 1]\n",
            "Number of queries:  0\n",
            "Time:  164.39164328575134\n",
            "MMR:  0.0\n",
            "Objective Values: (125.54441665068164, 80.65137453819396, 139.64599284788483)\n",
            "Preference Value:  125.54441665068164\n",
            "RIGA Hyper Value:  0.61\n"
          ],
          "name": "stdout"
        }
      ]
    },
    {
      "cell_type": "markdown",
      "metadata": {
        "id": "dKSBTiOzsekP"
      },
      "source": [
        "## RIGA-S"
      ]
    },
    {
      "cell_type": "code",
      "metadata": {
        "colab": {
          "base_uri": "https://localhost:8080/"
        },
        "id": "WgMSWynKse_U",
        "outputId": "260b8c90-9d40-4125-87e4-8f1ca750f965"
      },
      "source": [
        "delta = 0\n",
        "n_pop = 30\n",
        "n_selection = 5\n",
        "n_generation = 15\n",
        "\n",
        "RIGAs_best_x, n_queries, runtime, minimax_regret_value, best_w = riga_s_search(map = edges_map, threshold = delta, n_objectives = n_objectives, s=n_pop, k=n_selection, m=n_generation)\n",
        "print('Best Path: ', RIGAs_best_x)\n",
        "print('Number of queries: ', n_queries)\n",
        "print('Time: ', runtime)\n",
        "print('MMR: ', minimax_regret_value)\n",
        "print('Objective Values:',objective(RIGAs_best_x))\n",
        "print('Preference Value: ', scalarizer(best_w, objective(RIGAs_best_x)))\n",
        "RIGAs_hv = evaluate([objective(RIGAs_best_x)], pareto_front, ref_point)\n",
        "print('RIGA Hyper Value: ', RIGAs_hv)"
      ],
      "execution_count": 20,
      "outputs": [
        {
          "output_type": "stream",
          "text": [
            "initial pop :  [[0, 2, 1], [0, 2, 1], [0, 2, 1]]\n",
            "Generation :  0 Population :  [[0, 2, 1], [0, 2, 1], [0, 2, 1], [1, 0, 2], [0, 2, 1], [1, 0, 2], [0, 2, 1], [1, 0, 2], [2, 1, 0], [2, 1, 0], [2, 0, 1], [0, 1, 2], [2, 0, 1], [0, 2, 1], [2, 1, 0], [1, 0, 2], [1, 2, 0], [1, 0, 2], [0, 1, 2], [2, 1, 0], [0, 1, 2], [0, 2, 1], [2, 1, 0], [0, 1, 2], [2, 1, 0], [0, 1, 2], [2, 1, 0], [2, 1, 0], [2, 1, 0], [0, 2, 1]]\n",
            "MMR :  14.968769216094287 X* :  [2, 1, 0]\n",
            "W* :  [0, 1, 0]\n",
            "-----------------------------------------------\n",
            "DM Loop :  0\n",
            "MMR :  14.968769216094287 X* :  [2, 1, 0]\n",
            "W* :  [0, 1, 0]\n",
            "-----------------------------------------------\n",
            "DM Loop :  1\n",
            "MMR :  14.968769216094287 X* :  [2, 1, 0]\n",
            "W* :  [0, 1, 0]\n",
            "-----------------------------------------------\n",
            "DM Loop :  2\n",
            "MMR :  14.968769216094287 X* :  [2, 1, 0]\n",
            "W* :  [0, 1, 0]\n",
            "-----------------------------------------------\n",
            "DM Loop :  3\n",
            "MMR :  14.968769216094287 X* :  [2, 1, 0]\n",
            "W* :  [0, 1, 0]\n",
            "-----------------------------------------------\n",
            "DM Loop :  4\n",
            "MMR :  14.968769216094287 X* :  [2, 1, 0]\n",
            "W* :  [0, 1, 0]\n",
            "-----------------------------------------------\n",
            "DM Loop :  5\n",
            "MMR :  14.968769216094287 X* :  [2, 1, 0]\n",
            "W* :  [0, 1, 0]\n",
            "-----------------------------------------------\n",
            "DM Loop :  6\n",
            "MMR :  14.968769216094287 X* :  [2, 1, 0]\n",
            "W* :  [0, 1, 0]\n",
            "-----------------------------------------------\n",
            "DM Loop :  7\n",
            "MMR :  14.968769216094287 X* :  [2, 1, 0]\n",
            "W* :  [0, 1, 0]\n",
            "-----------------------------------------------\n",
            "DM Loop :  8\n",
            "MMR :  14.968769216094287 X* :  [2, 1, 0]\n",
            "W* :  [0, 1, 0]\n",
            "-----------------------------------------------\n",
            "DM Loop :  9\n",
            "MMR :  14.968769216094287 X* :  [2, 1, 0]\n",
            "W* :  [0, 1, 0]\n",
            "-----------------------------------------------\n",
            "DM Loop :  10\n",
            "MMR :  14.968769216094287 X* :  [2, 1, 0]\n",
            "W* :  [0, 1, 0]\n",
            "-----------------------------------------------\n",
            "DM Loop :  11\n",
            "MMR :  14.968769216094287 X* :  [2, 1, 0]\n",
            "W* :  [0, 1, 0]\n",
            "-----------------------------------------------\n",
            "DM Loop :  12\n",
            "MMR :  14.968769216094287 X* :  [2, 1, 0]\n",
            "W* :  [0, 1, 0]\n",
            "-----------------------------------------------\n",
            "DM Loop :  13\n",
            "MMR :  14.968769216094287 X* :  [2, 1, 0]\n",
            "W* :  [0, 1, 0]\n",
            "-----------------------------------------------\n",
            "DM Loop :  14\n",
            "MMR :  14.968769216094287 X* :  [2, 1, 0]\n",
            "W* :  [0, 1, 0]\n",
            "-----------------------------------------------\n",
            "DM Loop :  15\n",
            "Generation :  1 Population :  [[2, 1, 0], [2, 1, 0], [2, 1, 0], [2, 1, 0], [2, 1, 0], [2, 0, 1], [2, 1, 0], [2, 0, 1], [0, 2, 1], [0, 1, 2], [2, 1, 0], [2, 0, 1], [2, 0, 1], [0, 2, 1], [0, 1, 2], [2, 0, 1], [1, 0, 2], [2, 1, 0], [1, 2, 0], [2, 0, 1], [2, 0, 1], [2, 1, 0], [1, 0, 2], [2, 0, 1], [0, 2, 1], [1, 2, 0], [2, 0, 1], [2, 1, 0], [2, 1, 0], [1, 0, 2]]\n",
            "MMR :  14.968769216094287 X* :  [2, 1, 0]\n",
            "W* :  [0, 1, 0]\n",
            "-----------------------------------------------\n",
            "DM Loop :  16\n",
            "Generation :  2 Population :  [[2, 1, 0], [2, 1, 0], [2, 1, 0], [2, 1, 0], [2, 1, 0], [1, 2, 0], [0, 1, 2], [0, 2, 1], [2, 0, 1], [2, 1, 0], [2, 0, 1], [2, 0, 1], [1, 2, 0], [2, 0, 1], [2, 1, 0], [1, 0, 2], [2, 0, 1], [2, 1, 0], [0, 2, 1], [0, 1, 2], [0, 2, 1], [1, 0, 2], [2, 0, 1], [1, 0, 2], [0, 1, 2], [1, 0, 2], [2, 0, 1], [0, 2, 1], [0, 2, 1], [2, 0, 1]]\n",
            "MMR :  14.968769216094287 X* :  [2, 1, 0]\n",
            "W* :  [0, 1, 0]\n",
            "-----------------------------------------------\n",
            "DM Loop :  17\n",
            "Generation :  3 Population :  [[2, 1, 0], [2, 1, 0], [2, 1, 0], [2, 1, 0], [2, 1, 0], [1, 0, 2], [1, 0, 2], [0, 2, 1], [2, 0, 1], [2, 0, 1], [1, 0, 2], [2, 0, 1], [2, 0, 1], [1, 2, 0], [2, 1, 0], [1, 0, 2], [1, 2, 0], [2, 0, 1], [2, 0, 1], [1, 2, 0], [1, 0, 2], [0, 1, 2], [2, 1, 0], [1, 0, 2], [2, 0, 1], [0, 1, 2], [1, 2, 0], [0, 2, 1], [0, 1, 2], [2, 1, 0]]\n",
            "MMR :  14.968769216094287 X* :  [2, 1, 0]\n",
            "W* :  [0, 1, 0]\n",
            "-----------------------------------------------\n",
            "DM Loop :  18\n",
            "Generation :  4 Population :  [[2, 1, 0], [2, 1, 0], [2, 1, 0], [2, 1, 0], [2, 1, 0], [2, 1, 0], [2, 1, 0], [0, 1, 2], [0, 2, 1], [1, 0, 2], [1, 2, 0], [2, 0, 1], [2, 0, 1], [0, 2, 1], [2, 0, 1], [1, 0, 2], [0, 2, 1], [2, 0, 1], [0, 1, 2], [0, 2, 1], [0, 2, 1], [0, 2, 1], [2, 1, 0], [0, 2, 1], [0, 1, 2], [2, 1, 0], [2, 0, 1], [2, 0, 1], [2, 0, 1], [2, 0, 1]]\n",
            "MMR :  14.968769216094287 X* :  [2, 1, 0]\n",
            "W* :  [0, 1, 0]\n",
            "-----------------------------------------------\n",
            "DM Loop :  19\n",
            "Generation :  5 Population :  [[2, 1, 0], [2, 1, 0], [2, 1, 0], [2, 1, 0], [2, 1, 0], [0, 1, 2], [0, 2, 1], [1, 2, 0], [0, 1, 2], [1, 0, 2], [0, 1, 2], [1, 0, 2], [2, 1, 0], [2, 0, 1], [0, 1, 2], [2, 1, 0], [0, 2, 1], [1, 0, 2], [0, 1, 2], [2, 1, 0], [1, 0, 2], [1, 2, 0], [1, 0, 2], [2, 1, 0], [1, 0, 2], [1, 2, 0], [1, 0, 2], [2, 1, 0], [0, 1, 2], [1, 2, 0]]\n",
            "MMR :  14.968769216094287 X* :  [2, 1, 0]\n",
            "W* :  [0, 1, 0]\n",
            "-----------------------------------------------\n",
            "DM Loop :  20\n",
            "Generation :  6 Population :  [[2, 1, 0], [2, 1, 0], [2, 1, 0], [2, 1, 0], [2, 1, 0], [2, 0, 1], [2, 1, 0], [1, 2, 0], [1, 0, 2], [1, 0, 2], [1, 0, 2], [0, 2, 1], [0, 2, 1], [1, 2, 0], [2, 1, 0], [0, 2, 1], [1, 0, 2], [1, 2, 0], [2, 0, 1], [2, 0, 1], [1, 0, 2], [2, 1, 0], [2, 0, 1], [1, 2, 0], [2, 1, 0], [2, 1, 0], [1, 2, 0], [2, 0, 1], [2, 1, 0], [2, 1, 0]]\n",
            "MMR :  14.968769216094287 X* :  [2, 1, 0]\n",
            "W* :  [0, 1, 0]\n",
            "-----------------------------------------------\n",
            "DM Loop :  21\n",
            "Generation :  7 Population :  [[2, 1, 0], [2, 1, 0], [2, 1, 0], [2, 1, 0], [2, 1, 0], [1, 2, 0], [2, 0, 1], [1, 2, 0], [1, 2, 0], [2, 0, 1], [1, 2, 0], [1, 2, 0], [2, 0, 1], [1, 2, 0], [2, 1, 0], [1, 0, 2], [1, 2, 0], [1, 2, 0], [0, 2, 1], [1, 0, 2], [0, 1, 2], [1, 2, 0], [0, 2, 1], [2, 0, 1], [0, 1, 2], [2, 0, 1], [1, 0, 2], [0, 1, 2], [2, 0, 1], [2, 1, 0]]\n",
            "MMR :  14.968769216094287 X* :  [2, 1, 0]\n",
            "W* :  [0, 1, 0]\n",
            "-----------------------------------------------\n",
            "DM Loop :  22\n",
            "Generation :  8 Population :  [[2, 1, 0], [2, 1, 0], [2, 1, 0], [2, 1, 0], [2, 1, 0], [2, 0, 1], [1, 0, 2], [0, 2, 1], [1, 0, 2], [0, 2, 1], [2, 0, 1], [2, 0, 1], [1, 0, 2], [0, 1, 2], [2, 1, 0], [2, 1, 0], [0, 1, 2], [0, 2, 1], [2, 0, 1], [2, 0, 1], [1, 2, 0], [0, 2, 1], [2, 0, 1], [2, 0, 1], [0, 1, 2], [2, 0, 1], [2, 0, 1], [0, 1, 2], [2, 1, 0], [2, 1, 0]]\n",
            "MMR :  14.968769216094287 X* :  [2, 1, 0]\n",
            "W* :  [0, 1, 0]\n",
            "-----------------------------------------------\n",
            "DM Loop :  23\n",
            "Generation :  9 Population :  [[2, 1, 0], [2, 1, 0], [2, 1, 0], [2, 1, 0], [2, 1, 0], [2, 1, 0], [1, 0, 2], [0, 2, 1], [2, 0, 1], [1, 0, 2], [1, 0, 2], [0, 2, 1], [2, 0, 1], [1, 0, 2], [2, 0, 1], [0, 2, 1], [2, 1, 0], [1, 0, 2], [2, 0, 1], [2, 0, 1], [2, 0, 1], [0, 1, 2], [1, 0, 2], [2, 0, 1], [2, 0, 1], [1, 0, 2], [2, 1, 0], [1, 0, 2], [2, 1, 0], [2, 0, 1]]\n",
            "MMR :  14.968769216094287 X* :  [2, 1, 0]\n",
            "W* :  [0, 1, 0]\n",
            "-----------------------------------------------\n",
            "DM Loop :  24\n",
            "Generation :  10 Population :  [[2, 1, 0], [2, 1, 0], [2, 1, 0], [2, 1, 0], [2, 1, 0], [0, 2, 1], [2, 0, 1], [0, 2, 1], [0, 2, 1], [0, 1, 2], [0, 2, 1], [2, 1, 0], [2, 0, 1], [2, 0, 1], [2, 0, 1], [0, 1, 2], [2, 0, 1], [0, 2, 1], [0, 2, 1], [1, 2, 0], [2, 0, 1], [1, 0, 2], [0, 2, 1], [0, 2, 1], [2, 0, 1], [2, 1, 0], [2, 1, 0], [1, 0, 2], [0, 1, 2], [0, 2, 1]]\n",
            "MMR :  14.968769216094287 X* :  [2, 1, 0]\n",
            "W* :  [0, 1, 0]\n",
            "-----------------------------------------------\n",
            "DM Loop :  25\n",
            "Generation :  11 Population :  [[2, 1, 0], [2, 1, 0], [2, 1, 0], [2, 1, 0], [2, 1, 0], [2, 0, 1], [2, 0, 1], [0, 2, 1], [2, 0, 1], [1, 2, 0], [2, 1, 0], [0, 2, 1], [1, 2, 0], [2, 1, 0], [2, 0, 1], [2, 1, 0], [1, 2, 0], [2, 0, 1], [1, 0, 2], [0, 1, 2], [1, 0, 2], [1, 0, 2], [1, 2, 0], [1, 0, 2], [0, 2, 1], [2, 1, 0], [2, 0, 1], [2, 0, 1], [1, 2, 0], [1, 2, 0]]\n",
            "MMR :  14.968769216094287 X* :  [2, 1, 0]\n",
            "W* :  [0, 1, 0]\n",
            "-----------------------------------------------\n",
            "DM Loop :  26\n",
            "Generation :  12 Population :  [[2, 1, 0], [2, 1, 0], [2, 1, 0], [2, 1, 0], [2, 1, 0], [1, 2, 0], [2, 0, 1], [2, 0, 1], [1, 0, 2], [2, 0, 1], [0, 1, 2], [1, 0, 2], [1, 0, 2], [1, 0, 2], [2, 0, 1], [1, 0, 2], [2, 1, 0], [2, 0, 1], [2, 1, 0], [2, 0, 1], [1, 2, 0], [1, 2, 0], [0, 1, 2], [2, 1, 0], [2, 0, 1], [2, 1, 0], [0, 2, 1], [1, 0, 2], [2, 0, 1], [2, 0, 1]]\n",
            "MMR :  14.968769216094287 X* :  [2, 1, 0]\n",
            "W* :  [0, 1, 0]\n",
            "-----------------------------------------------\n",
            "DM Loop :  27\n",
            "Generation :  13 Population :  [[2, 1, 0], [2, 1, 0], [2, 1, 0], [2, 1, 0], [2, 1, 0], [2, 0, 1], [2, 0, 1], [0, 1, 2], [2, 1, 0], [2, 0, 1], [1, 0, 2], [1, 2, 0], [2, 0, 1], [2, 0, 1], [0, 2, 1], [2, 1, 0], [1, 2, 0], [0, 1, 2], [1, 0, 2], [0, 2, 1], [1, 0, 2], [2, 1, 0], [2, 0, 1], [1, 2, 0], [2, 1, 0], [2, 0, 1], [2, 0, 1], [1, 0, 2], [0, 1, 2], [0, 1, 2]]\n",
            "MMR :  14.968769216094287 X* :  [2, 1, 0]\n",
            "W* :  [0, 1, 0]\n",
            "-----------------------------------------------\n",
            "DM Loop :  28\n",
            "Generation :  14 Population :  [[2, 1, 0], [2, 1, 0], [2, 1, 0], [2, 1, 0], [2, 1, 0], [1, 2, 0], [2, 1, 0], [2, 0, 1], [1, 0, 2], [2, 0, 1], [2, 0, 1], [1, 0, 2], [2, 0, 1], [1, 0, 2], [1, 0, 2], [2, 1, 0], [0, 2, 1], [2, 0, 1], [2, 1, 0], [1, 0, 2], [2, 0, 1], [0, 1, 2], [2, 1, 0], [1, 2, 0], [2, 0, 1], [2, 0, 1], [1, 0, 2], [1, 2, 0], [1, 0, 2], [1, 0, 2]]\n",
            "MMR :  14.968769216094287 X* :  [2, 1, 0]\n",
            "W* :  [0, 1, 0]\n",
            "-----------------------------------------------\n",
            "DM Loop :  29\n",
            "Best Path:  [2, 1, 0]\n",
            "Number of queries:  30\n",
            "Time:  6.8785481452941895\n",
            "MMR:  14.968769216094287\n",
            "Objective Values: (101.09628271485718, 74.82400695054469, 84.53187685571612)\n",
            "Preference Value:  74.82400695054469\n",
            "RIGA Hyper Value:  1.0\n"
          ],
          "name": "stdout"
        }
      ]
    },
    {
      "cell_type": "markdown",
      "metadata": {
        "id": "MDCTj6VO2FXk"
      },
      "source": [
        "## IEEP Evaluation"
      ]
    },
    {
      "cell_type": "code",
      "metadata": {
        "id": "lHyIv_OFRiXI",
        "colab": {
          "base_uri": "https://localhost:8080/"
        },
        "outputId": "be52d708-e7e1-4980-ddab-9cc30b65219e"
      },
      "source": [
        "delta = 0\n",
        "\n",
        "IEEP_best_x, n_queries, runtime, minimax_regret_value, best_w = ieep_search(edges_map, n_cities, threshold = delta, no_improvement_threshold=20)\n",
        "print('Best Path: ', IEEP_best_x)\n",
        "print('Number of queries: ', n_queries)\n",
        "print('Time: ', runtime)\n",
        "print('MMR: ', minimax_regret_value)\n",
        "print('Objective Values:',objective(IEEP_best_x))\n",
        "print('Preference Value: ', scalarizer(best_w, objective(IEEP_best_x)))\n",
        "IEEP_hv = evaluate([objective(IEEP_best_x)], pareto_front, ref_point)\n",
        "print('IEEP Hyper Value: ', IEEP_hv)"
      ],
      "execution_count": 21,
      "outputs": [
        {
          "output_type": "stream",
          "text": [
            "MMR :  0.0 X* :  [0, 2, 1]\n",
            "W* :  [1, 0, 0]\n",
            "Best Path:  [0, 2, 1]\n",
            "Number of queries:  0\n",
            "Time:  1.3822581768035889\n",
            "MMR:  0.0\n",
            "Objective Values: (125.54441665068164, 80.65137453819396, 139.64599284788483)\n",
            "Preference Value:  125.54441665068164\n",
            "IEEP Hyper Value:  0.61\n"
          ],
          "name": "stdout"
        }
      ]
    },
    {
      "cell_type": "markdown",
      "metadata": {
        "id": "by1Dl2zT2H8e"
      },
      "source": [
        "## NSGA2 Evaluation"
      ]
    },
    {
      "cell_type": "code",
      "metadata": {
        "colab": {
          "base_uri": "https://localhost:8080/"
        },
        "id": "TtO3GzdFa0I9",
        "outputId": "6c4e7030-ac23-4b11-af92-11b7edfc3527"
      },
      "source": [
        "NSGA2_best_x, runtime, obj_value = search_NSGA2(edges_map)\n",
        "print('Best Path: ', NSGA2_best_x)\n",
        "print('Time: ', runtime)\n",
        "print('Objective Values:',obj_value)\n",
        "\n",
        "NSGA2_hv = evaluate(obj_value, pareto_front, ref_point)\n",
        "print('NSGA2 Hyper Value: ', NSGA2_hv)"
      ],
      "execution_count": 22,
      "outputs": [
        {
          "output_type": "stream",
          "text": [
            "Best Path:  [[0 2 1]\n",
            " [0 1 2]]\n",
            "Time:  0.47947239875793457\n",
            "Objective Values: [(184.8316680779851, 107.66530961159452, 152.1091709643161), (184.8316680779851, 107.66530961159452, 152.1091709643161)]\n",
            "NSGA2 Hyper Value:  0.3\n"
          ],
          "name": "stdout"
        }
      ]
    },
    {
      "cell_type": "code",
      "metadata": {
        "id": "j8kWB-lX_YVN"
      },
      "source": [
        ""
      ],
      "execution_count": 22,
      "outputs": []
    }
  ]
}